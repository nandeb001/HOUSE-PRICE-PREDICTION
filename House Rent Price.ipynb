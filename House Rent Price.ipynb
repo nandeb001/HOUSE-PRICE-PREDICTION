{
 "cells": [
  {
   "cell_type": "markdown",
   "id": "17a81807",
   "metadata": {},
   "source": [
    "# House_Price_Prediction"
   ]
  },
  {
   "cell_type": "markdown",
   "id": "91ed0def",
   "metadata": {},
   "source": [
    "# Import Libraries"
   ]
  },
  {
   "cell_type": "code",
   "execution_count": null,
   "id": "59129128",
   "metadata": {},
   "outputs": [],
   "source": [
    "import numpy as np\n",
    "import pandas as pd\n",
    "import seaborn as sns\n",
    "import matplotlib.pyplot as plt"
   ]
  },
  {
   "cell_type": "markdown",
   "id": "7ff85d73",
   "metadata": {},
   "source": [
    "# Import Data File"
   ]
  },
  {
   "cell_type": "code",
   "execution_count": 2,
   "id": "376aeb2d",
   "metadata": {},
   "outputs": [],
   "source": [
    "data=pd.read_csv(\"C:\\\\Users\\\\user\\\\Desktop\\\\New folder\\\\house_price_data.csv\")"
   ]
  },
  {
   "cell_type": "markdown",
   "id": "0cb1196b",
   "metadata": {},
   "source": [
    "# Data Description & Data Types"
   ]
  },
  {
   "cell_type": "code",
   "execution_count": 3,
   "id": "8cad97cd",
   "metadata": {},
   "outputs": [
    {
     "data": {
      "text/html": [
       "<div>\n",
       "<style scoped>\n",
       "    .dataframe tbody tr th:only-of-type {\n",
       "        vertical-align: middle;\n",
       "    }\n",
       "\n",
       "    .dataframe tbody tr th {\n",
       "        vertical-align: top;\n",
       "    }\n",
       "\n",
       "    .dataframe thead th {\n",
       "        text-align: right;\n",
       "    }\n",
       "</style>\n",
       "<table border=\"1\" class=\"dataframe\">\n",
       "  <thead>\n",
       "    <tr style=\"text-align: right;\">\n",
       "      <th></th>\n",
       "      <th>ID</th>\n",
       "      <th>date</th>\n",
       "      <th>bedrooms</th>\n",
       "      <th>bathrooms</th>\n",
       "      <th>Sqft_Area</th>\n",
       "      <th>floors</th>\n",
       "      <th>waterfront</th>\n",
       "      <th>view</th>\n",
       "      <th>condition</th>\n",
       "      <th>grade</th>\n",
       "      <th>sqft_basement</th>\n",
       "      <th>yr_built</th>\n",
       "      <th>yr_renovated</th>\n",
       "      <th>zipcode</th>\n",
       "      <th>price</th>\n",
       "    </tr>\n",
       "  </thead>\n",
       "  <tbody>\n",
       "    <tr>\n",
       "      <th>0</th>\n",
       "      <td>7129300520</td>\n",
       "      <td>20141013T000000</td>\n",
       "      <td>3</td>\n",
       "      <td>1.00</td>\n",
       "      <td>1180</td>\n",
       "      <td>1.0</td>\n",
       "      <td>0</td>\n",
       "      <td>0</td>\n",
       "      <td>3</td>\n",
       "      <td>7</td>\n",
       "      <td>0</td>\n",
       "      <td>1955</td>\n",
       "      <td>0</td>\n",
       "      <td>98178</td>\n",
       "      <td>221900</td>\n",
       "    </tr>\n",
       "    <tr>\n",
       "      <th>1</th>\n",
       "      <td>6414100192</td>\n",
       "      <td>20141209T000000</td>\n",
       "      <td>3</td>\n",
       "      <td>2.25</td>\n",
       "      <td>2570</td>\n",
       "      <td>2.0</td>\n",
       "      <td>0</td>\n",
       "      <td>0</td>\n",
       "      <td>3</td>\n",
       "      <td>7</td>\n",
       "      <td>400</td>\n",
       "      <td>1951</td>\n",
       "      <td>1991</td>\n",
       "      <td>98125</td>\n",
       "      <td>538000</td>\n",
       "    </tr>\n",
       "    <tr>\n",
       "      <th>2</th>\n",
       "      <td>5631500400</td>\n",
       "      <td>20150225T000000</td>\n",
       "      <td>2</td>\n",
       "      <td>1.00</td>\n",
       "      <td>770</td>\n",
       "      <td>1.0</td>\n",
       "      <td>0</td>\n",
       "      <td>0</td>\n",
       "      <td>3</td>\n",
       "      <td>6</td>\n",
       "      <td>0</td>\n",
       "      <td>1933</td>\n",
       "      <td>0</td>\n",
       "      <td>98028</td>\n",
       "      <td>180000</td>\n",
       "    </tr>\n",
       "    <tr>\n",
       "      <th>3</th>\n",
       "      <td>2487200875</td>\n",
       "      <td>20141209T000000</td>\n",
       "      <td>4</td>\n",
       "      <td>3.00</td>\n",
       "      <td>1960</td>\n",
       "      <td>1.0</td>\n",
       "      <td>0</td>\n",
       "      <td>0</td>\n",
       "      <td>5</td>\n",
       "      <td>7</td>\n",
       "      <td>910</td>\n",
       "      <td>1965</td>\n",
       "      <td>0</td>\n",
       "      <td>98136</td>\n",
       "      <td>604000</td>\n",
       "    </tr>\n",
       "    <tr>\n",
       "      <th>4</th>\n",
       "      <td>1954400510</td>\n",
       "      <td>20150218T000000</td>\n",
       "      <td>3</td>\n",
       "      <td>2.00</td>\n",
       "      <td>1680</td>\n",
       "      <td>1.0</td>\n",
       "      <td>0</td>\n",
       "      <td>0</td>\n",
       "      <td>3</td>\n",
       "      <td>8</td>\n",
       "      <td>0</td>\n",
       "      <td>1987</td>\n",
       "      <td>0</td>\n",
       "      <td>98074</td>\n",
       "      <td>510000</td>\n",
       "    </tr>\n",
       "  </tbody>\n",
       "</table>\n",
       "</div>"
      ],
      "text/plain": [
       "           ID             date  bedrooms  bathrooms  Sqft_Area  floors  \\\n",
       "0  7129300520  20141013T000000         3       1.00       1180     1.0   \n",
       "1  6414100192  20141209T000000         3       2.25       2570     2.0   \n",
       "2  5631500400  20150225T000000         2       1.00        770     1.0   \n",
       "3  2487200875  20141209T000000         4       3.00       1960     1.0   \n",
       "4  1954400510  20150218T000000         3       2.00       1680     1.0   \n",
       "\n",
       "   waterfront  view  condition  grade  sqft_basement  yr_built  yr_renovated  \\\n",
       "0           0     0          3      7              0      1955             0   \n",
       "1           0     0          3      7            400      1951          1991   \n",
       "2           0     0          3      6              0      1933             0   \n",
       "3           0     0          5      7            910      1965             0   \n",
       "4           0     0          3      8              0      1987             0   \n",
       "\n",
       "   zipcode   price  \n",
       "0    98178  221900  \n",
       "1    98125  538000  \n",
       "2    98028  180000  \n",
       "3    98136  604000  \n",
       "4    98074  510000  "
      ]
     },
     "execution_count": 3,
     "metadata": {},
     "output_type": "execute_result"
    }
   ],
   "source": [
    "data.head()"
   ]
  },
  {
   "cell_type": "code",
   "execution_count": 4,
   "id": "c64e23e9",
   "metadata": {},
   "outputs": [
    {
     "name": "stdout",
     "output_type": "stream",
     "text": [
      "<class 'pandas.core.frame.DataFrame'>\n",
      "RangeIndex: 21613 entries, 0 to 21612\n",
      "Data columns (total 15 columns):\n",
      " #   Column         Non-Null Count  Dtype  \n",
      "---  ------         --------------  -----  \n",
      " 0   ID             21613 non-null  int64  \n",
      " 1   date           21613 non-null  object \n",
      " 2   bedrooms       21613 non-null  int64  \n",
      " 3   bathrooms      21613 non-null  float64\n",
      " 4   Sqft_Area      21613 non-null  int64  \n",
      " 5   floors         21613 non-null  float64\n",
      " 6   waterfront     21613 non-null  int64  \n",
      " 7   view           21613 non-null  int64  \n",
      " 8   condition      21613 non-null  int64  \n",
      " 9   grade          21613 non-null  int64  \n",
      " 10  sqft_basement  21613 non-null  int64  \n",
      " 11  yr_built       21613 non-null  int64  \n",
      " 12  yr_renovated   21613 non-null  int64  \n",
      " 13  zipcode        21613 non-null  int64  \n",
      " 14  price          21613 non-null  int64  \n",
      "dtypes: float64(2), int64(12), object(1)\n",
      "memory usage: 2.5+ MB\n"
     ]
    }
   ],
   "source": [
    "data.info()"
   ]
  },
  {
   "cell_type": "code",
   "execution_count": 5,
   "id": "b907e71a",
   "metadata": {},
   "outputs": [
    {
     "data": {
      "text/plain": [
       "Index(['ID', 'date', 'bedrooms', 'bathrooms', 'Sqft_Area', 'floors',\n",
       "       'waterfront', 'view', 'condition', 'grade', 'sqft_basement', 'yr_built',\n",
       "       'yr_renovated', 'zipcode', 'price'],\n",
       "      dtype='object')"
      ]
     },
     "execution_count": 5,
     "metadata": {},
     "output_type": "execute_result"
    }
   ],
   "source": [
    "data.columns"
   ]
  },
  {
   "cell_type": "markdown",
   "id": "e849be63",
   "metadata": {},
   "source": [
    "# Dropping Unnecessary Columns"
   ]
  },
  {
   "cell_type": "code",
   "execution_count": 6,
   "id": "e0a2f56c",
   "metadata": {},
   "outputs": [],
   "source": [
    "data.drop([\"date\",'ID'],axis=1,inplace=True)"
   ]
  },
  {
   "cell_type": "code",
   "execution_count": 7,
   "id": "3928505b",
   "metadata": {},
   "outputs": [
    {
     "data": {
      "text/html": [
       "<div>\n",
       "<style scoped>\n",
       "    .dataframe tbody tr th:only-of-type {\n",
       "        vertical-align: middle;\n",
       "    }\n",
       "\n",
       "    .dataframe tbody tr th {\n",
       "        vertical-align: top;\n",
       "    }\n",
       "\n",
       "    .dataframe thead th {\n",
       "        text-align: right;\n",
       "    }\n",
       "</style>\n",
       "<table border=\"1\" class=\"dataframe\">\n",
       "  <thead>\n",
       "    <tr style=\"text-align: right;\">\n",
       "      <th></th>\n",
       "      <th>bedrooms</th>\n",
       "      <th>bathrooms</th>\n",
       "      <th>Sqft_Area</th>\n",
       "      <th>floors</th>\n",
       "      <th>waterfront</th>\n",
       "      <th>view</th>\n",
       "      <th>condition</th>\n",
       "      <th>grade</th>\n",
       "      <th>sqft_basement</th>\n",
       "      <th>yr_built</th>\n",
       "      <th>yr_renovated</th>\n",
       "      <th>zipcode</th>\n",
       "      <th>price</th>\n",
       "    </tr>\n",
       "  </thead>\n",
       "  <tbody>\n",
       "    <tr>\n",
       "      <th>0</th>\n",
       "      <td>3</td>\n",
       "      <td>1.00</td>\n",
       "      <td>1180</td>\n",
       "      <td>1.0</td>\n",
       "      <td>0</td>\n",
       "      <td>0</td>\n",
       "      <td>3</td>\n",
       "      <td>7</td>\n",
       "      <td>0</td>\n",
       "      <td>1955</td>\n",
       "      <td>0</td>\n",
       "      <td>98178</td>\n",
       "      <td>221900</td>\n",
       "    </tr>\n",
       "    <tr>\n",
       "      <th>1</th>\n",
       "      <td>3</td>\n",
       "      <td>2.25</td>\n",
       "      <td>2570</td>\n",
       "      <td>2.0</td>\n",
       "      <td>0</td>\n",
       "      <td>0</td>\n",
       "      <td>3</td>\n",
       "      <td>7</td>\n",
       "      <td>400</td>\n",
       "      <td>1951</td>\n",
       "      <td>1991</td>\n",
       "      <td>98125</td>\n",
       "      <td>538000</td>\n",
       "    </tr>\n",
       "    <tr>\n",
       "      <th>2</th>\n",
       "      <td>2</td>\n",
       "      <td>1.00</td>\n",
       "      <td>770</td>\n",
       "      <td>1.0</td>\n",
       "      <td>0</td>\n",
       "      <td>0</td>\n",
       "      <td>3</td>\n",
       "      <td>6</td>\n",
       "      <td>0</td>\n",
       "      <td>1933</td>\n",
       "      <td>0</td>\n",
       "      <td>98028</td>\n",
       "      <td>180000</td>\n",
       "    </tr>\n",
       "    <tr>\n",
       "      <th>3</th>\n",
       "      <td>4</td>\n",
       "      <td>3.00</td>\n",
       "      <td>1960</td>\n",
       "      <td>1.0</td>\n",
       "      <td>0</td>\n",
       "      <td>0</td>\n",
       "      <td>5</td>\n",
       "      <td>7</td>\n",
       "      <td>910</td>\n",
       "      <td>1965</td>\n",
       "      <td>0</td>\n",
       "      <td>98136</td>\n",
       "      <td>604000</td>\n",
       "    </tr>\n",
       "    <tr>\n",
       "      <th>4</th>\n",
       "      <td>3</td>\n",
       "      <td>2.00</td>\n",
       "      <td>1680</td>\n",
       "      <td>1.0</td>\n",
       "      <td>0</td>\n",
       "      <td>0</td>\n",
       "      <td>3</td>\n",
       "      <td>8</td>\n",
       "      <td>0</td>\n",
       "      <td>1987</td>\n",
       "      <td>0</td>\n",
       "      <td>98074</td>\n",
       "      <td>510000</td>\n",
       "    </tr>\n",
       "  </tbody>\n",
       "</table>\n",
       "</div>"
      ],
      "text/plain": [
       "   bedrooms  bathrooms  Sqft_Area  floors  waterfront  view  condition  grade  \\\n",
       "0         3       1.00       1180     1.0           0     0          3      7   \n",
       "1         3       2.25       2570     2.0           0     0          3      7   \n",
       "2         2       1.00        770     1.0           0     0          3      6   \n",
       "3         4       3.00       1960     1.0           0     0          5      7   \n",
       "4         3       2.00       1680     1.0           0     0          3      8   \n",
       "\n",
       "   sqft_basement  yr_built  yr_renovated  zipcode   price  \n",
       "0              0      1955             0    98178  221900  \n",
       "1            400      1951          1991    98125  538000  \n",
       "2              0      1933             0    98028  180000  \n",
       "3            910      1965             0    98136  604000  \n",
       "4              0      1987             0    98074  510000  "
      ]
     },
     "execution_count": 7,
     "metadata": {},
     "output_type": "execute_result"
    }
   ],
   "source": [
    "data.head()"
   ]
  },
  {
   "cell_type": "markdown",
   "id": "71449091",
   "metadata": {},
   "source": [
    "# Data Cleaning"
   ]
  },
  {
   "cell_type": "code",
   "execution_count": 8,
   "id": "feb2c4b0",
   "metadata": {},
   "outputs": [
    {
     "data": {
      "text/plain": [
       "bedrooms         0\n",
       "bathrooms        0\n",
       "Sqft_Area        0\n",
       "floors           0\n",
       "waterfront       0\n",
       "view             0\n",
       "condition        0\n",
       "grade            0\n",
       "sqft_basement    0\n",
       "yr_built         0\n",
       "yr_renovated     0\n",
       "zipcode          0\n",
       "price            0\n",
       "dtype: int64"
      ]
     },
     "execution_count": 8,
     "metadata": {},
     "output_type": "execute_result"
    }
   ],
   "source": [
    "data.isna().sum()"
   ]
  },
  {
   "cell_type": "code",
   "execution_count": 9,
   "id": "d09a9c88",
   "metadata": {},
   "outputs": [
    {
     "data": {
      "text/plain": [
       "bedrooms           int64\n",
       "bathrooms        float64\n",
       "Sqft_Area          int64\n",
       "floors           float64\n",
       "waterfront         int64\n",
       "view               int64\n",
       "condition          int64\n",
       "grade              int64\n",
       "sqft_basement      int64\n",
       "yr_built           int64\n",
       "yr_renovated       int64\n",
       "zipcode            int64\n",
       "price              int64\n",
       "dtype: object"
      ]
     },
     "execution_count": 9,
     "metadata": {},
     "output_type": "execute_result"
    }
   ],
   "source": [
    "data.dtypes"
   ]
  },
  {
   "cell_type": "markdown",
   "id": "25cefaad",
   "metadata": {},
   "source": [
    "# Checking Outliers and Skewness & Plotting"
   ]
  },
  {
   "cell_type": "code",
   "execution_count": 10,
   "id": "b0bdadf9",
   "metadata": {},
   "outputs": [
    {
     "data": {
      "text/plain": [
       "<Axes: xlabel='Sqft_Area'>"
      ]
     },
     "execution_count": 10,
     "metadata": {},
     "output_type": "execute_result"
    },
    {
     "data": {
      "image/png": "[encoded data removed]",
      "text/plain": [
       "<Figure size 640x480 with 1 Axes>"
      ]
     },
     "metadata": {},
     "output_type": "display_data"
    }
   ],
   "source": [
    "sns.boxplot(x=data['Sqft_Area'])"
   ]
  },
  {
   "cell_type": "code",
   "execution_count": 11,
   "id": "e6679dda",
   "metadata": {},
   "outputs": [
    {
     "data": {
      "text/plain": [
       "<Axes: xlabel='sqft_basement'>"
      ]
     },
     "execution_count": 11,
     "metadata": {},
     "output_type": "execute_result"
    },
    {
     "data": {
      "image/png": "[encoded data removed]",
      "text/plain": [
       "<Figure size 640x480 with 1 Axes>"
      ]
     },
     "metadata": {},
     "output_type": "display_data"
    }
   ],
   "source": [
    "sns.boxplot(x=data['sqft_basement'])"
   ]
  },
  {
   "cell_type": "code",
   "execution_count": 12,
   "id": "c2138140",
   "metadata": {},
   "outputs": [
    {
     "data": {
      "text/plain": [
       "<Axes: xlabel='price'>"
      ]
     },
     "execution_count": 12,
     "metadata": {},
     "output_type": "execute_result"
    },
    {
     "data": {
      "image/png": "[encoded data removed]",
      "text/plain": [
       "<Figure size 640x480 with 1 Axes>"
      ]
     },
     "metadata": {},
     "output_type": "display_data"
    }
   ],
   "source": [
    "sns.boxplot(x=data['price'])"
   ]
  },
  {
   "cell_type": "code",
   "execution_count": 15,
   "id": "bfa7e5ae",
   "metadata": {},
   "outputs": [
    {
     "data": {
      "text/plain": [
       "<Axes: xlabel='bathrooms'>"
      ]
     },
     "execution_count": 15,
     "metadata": {},
     "output_type": "execute_result"
    },
    {
     "data": {
      "image/png": "[encoded data removed]",
      "text/plain": [
       "<Figure size 640x480 with 1 Axes>"
      ]
     },
     "metadata": {},
     "output_type": "display_data"
    }
   ],
   "source": [
    "sns.boxplot(x=data[\"bathrooms\"])"
   ]
  },
  {
   "cell_type": "code",
   "execution_count": null,
   "id": "61fcde62",
   "metadata": {},
   "outputs": [],
   "source": [
    "sns.boxplot(x=data[\"yr_renovated\"])"
   ]
  },
  {
   "cell_type": "code",
   "execution_count": 17,
   "id": "8ac75094",
   "metadata": {},
   "outputs": [
    {
     "data": {
      "text/plain": [
       "4.024069144684712"
      ]
     },
     "execution_count": 17,
     "metadata": {},
     "output_type": "execute_result"
    }
   ],
   "source": [
    "data['price'].skew()"
   ]
  },
  {
   "cell_type": "code",
   "execution_count": 18,
   "id": "d6816467",
   "metadata": {},
   "outputs": [
    {
     "data": {
      "text/plain": [
       "1.471555426802092"
      ]
     },
     "execution_count": 18,
     "metadata": {},
     "output_type": "execute_result"
    }
   ],
   "source": [
    "data['Sqft_Area'].skew()"
   ]
  },
  {
   "cell_type": "code",
   "execution_count": 19,
   "id": "9abf5cd5",
   "metadata": {},
   "outputs": [
    {
     "data": {
      "text/plain": [
       "1.5779650555996247"
      ]
     },
     "execution_count": 19,
     "metadata": {},
     "output_type": "execute_result"
    }
   ],
   "source": [
    "data['sqft_basement'].skew()"
   ]
  },
  {
   "cell_type": "code",
   "execution_count": null,
   "id": "ecba1d15",
   "metadata": {},
   "outputs": [],
   "source": [
    "Q1=data['price'].quantile(0.25)\n",
    "Q2=data['price'].quantile(0.5)\n",
    "Q3=data['price'].quantile(0.75)\n",
    "\n",
    "IQR = Q3-Q1\n",
    "\n",
    "UL = Q3+(1.5*IQR)\n",
    "LL = Q1-(1.5*IQR)\n",
    "\n",
    "data[(data['price']>UL) | (data['price']<LL)]"
   ]
  },
  {
   "cell_type": "code",
   "execution_count": null,
   "id": "6f9fdbf5",
   "metadata": {},
   "outputs": [],
   "source": [
    "Q1=data['Sqft_Area'].quantile(0.25)\n",
    "Q2=data['Sqft_Area'].quantile(0.5)\n",
    "Q3=data['Sqft_Area'].quantile(0.75)\n",
    "\n",
    "IQR = Q3-Q1\n",
    "\n",
    "UL = Q3+(1.5*IQR)\n",
    "LL = Q1-(1.5*IQR)\n",
    "\n",
    "data[(data['Sqft_Area']>UL) | (data['Sqft_Area']<LL)]"
   ]
  },
  {
   "cell_type": "code",
   "execution_count": null,
   "id": "97e916ed",
   "metadata": {},
   "outputs": [],
   "source": [
    "Q1=data['sqft_basement'].quantile(0.25)\n",
    "Q2=data['sqft_basement'].quantile(0.5)\n",
    "Q3=data['sqft_basement'].quantile(0.75)\n",
    "\n",
    "IQR = Q3-Q1\n",
    "\n",
    "UL = Q3+(1.5*IQR)\n",
    "LL = Q1-(1.5*IQR)\n",
    "\n",
    "data[(data['sqft_basement']>UL) | (data['sqft_basement']<LL)]"
   ]
  },
  {
   "cell_type": "code",
   "execution_count": null,
   "id": "4c23113a",
   "metadata": {},
   "outputs": [],
   "source": [
    "Q1=data['bathrooms'].quantile(0.25)\n",
    "Q2=data['bathrooms'].quantile(0.5)\n",
    "Q3=data['bathrooms'].quantile(0.75)\n",
    "\n",
    "IQR = Q3-Q1\n",
    "\n",
    "UL = Q3+(1.5*IQR)\n",
    "LL = Q1-(1.5*IQR)\n",
    "\n",
    "data[(data['bathrooms']>UL) | (data['bathrooms']<LL)]"
   ]
  },
  {
   "cell_type": "markdown",
   "id": "b2b41fcb",
   "metadata": {},
   "source": [
    "# Outliers Treatment"
   ]
  },
  {
   "cell_type": "code",
   "execution_count": null,
   "id": "c86708ac",
   "metadata": {},
   "outputs": [],
   "source": [
    "data=data[(data['price']<UL) | (data['price']>LL)]"
   ]
  },
  {
   "cell_type": "code",
   "execution_count": null,
   "id": "69ca28a0",
   "metadata": {},
   "outputs": [],
   "source": [
    "data=data[(data['Sqft_Area']<UL) | (data['Sqft_Area']>LL)]"
   ]
  },
  {
   "cell_type": "code",
   "execution_count": null,
   "id": "58f11571",
   "metadata": {},
   "outputs": [],
   "source": [
    "data=data[(data['sqft_basement']<UL) | (data['sqft_basement']>LL)]"
   ]
  },
  {
   "cell_type": "code",
   "execution_count": null,
   "id": "301854ce",
   "metadata": {},
   "outputs": [],
   "source": [
    "data=data[(data['bathrooms']<UL) | (data['pri']>LL)]"
   ]
  },
  {
   "cell_type": "markdown",
   "id": "6e36d7af",
   "metadata": {},
   "source": [
    "# Data Spliting"
   ]
  },
  {
   "cell_type": "code",
   "execution_count": 20,
   "id": "daddeddd",
   "metadata": {},
   "outputs": [],
   "source": [
    "import sklearn"
   ]
  },
  {
   "cell_type": "code",
   "execution_count": 21,
   "id": "a312e578",
   "metadata": {},
   "outputs": [],
   "source": [
    "x=data.drop([\"price\"],axis=1)\n",
    "y=data.price"
   ]
  },
  {
   "cell_type": "markdown",
   "id": "48b4e1df",
   "metadata": {},
   "source": [
    "# Data Transformation"
   ]
  },
  {
   "cell_type": "code",
   "execution_count": 22,
   "id": "834bba02",
   "metadata": {},
   "outputs": [],
   "source": [
    "from sklearn.preprocessing import LabelEncoder,StandardScaler"
   ]
  },
  {
   "cell_type": "code",
   "execution_count": 23,
   "id": "94ba3d95",
   "metadata": {},
   "outputs": [],
   "source": [
    "sc=StandardScaler()"
   ]
  },
  {
   "cell_type": "code",
   "execution_count": 24,
   "id": "da6b9aba",
   "metadata": {},
   "outputs": [],
   "source": [
    "x=sc.fit_transform(x)"
   ]
  },
  {
   "cell_type": "code",
   "execution_count": 25,
   "id": "a98367bb",
   "metadata": {},
   "outputs": [
    {
     "data": {
      "text/plain": [
       "array([[-0.39873715, -1.44746357, -0.97983502, ..., -0.54489777,\n",
       "        -0.21012839,  1.87015159],\n",
       "       [-0.39873715,  0.1756067 ,  0.53363434, ..., -0.6810785 ,\n",
       "         4.7466776 ,  0.87956753],\n",
       "       [-1.47395936, -1.44746357, -1.42625404, ..., -1.29389179,\n",
       "        -0.21012839, -0.9333882 ],\n",
       "       ...,\n",
       "       [-1.47395936, -1.77207762, -1.15404732, ...,  1.29354209,\n",
       "        -0.21012839,  1.23468257],\n",
       "       [-0.39873715,  0.50022075, -0.52252773, ...,  1.12331618,\n",
       "        -0.21012839, -0.95207846],\n",
       "       [-1.47395936, -1.77207762, -1.15404732, ...,  1.25949691,\n",
       "        -0.21012839,  1.23468257]])"
      ]
     },
     "execution_count": 25,
     "metadata": {},
     "output_type": "execute_result"
    }
   ],
   "source": [
    "x"
   ]
  },
  {
   "cell_type": "code",
   "execution_count": 26,
   "id": "4c41753a",
   "metadata": {},
   "outputs": [
    {
     "data": {
      "text/plain": [
       "array([[-0.39873715,  0.1756067 ,  0.53363434,  0.93650577, -0.08717263,\n",
       "        -0.30575946, -0.62918687, -0.55883575,  0.2451414 , -0.6810785 ,\n",
       "         4.7466776 ,  0.87956753],\n",
       "       [-1.47395936, -1.44746357, -1.42625404, -0.915427  , -0.08717263,\n",
       "        -0.30575946, -0.62918687, -1.40958711, -0.65868104, -1.29389179,\n",
       "        -0.21012839, -0.9333882 ],\n",
       "       [ 0.67648506,  1.14944885, -0.13055006, -0.915427  , -0.08717263,\n",
       "        -0.30575946,  2.44429394, -0.55883575,  1.39751501, -0.20444594,\n",
       "        -0.21012839,  1.08516045],\n",
       "       [-0.39873715, -0.14900736, -0.43542158, -0.915427  , -0.08717263,\n",
       "        -0.30575946, -0.62918687,  0.29191561, -0.65868104,  0.54454807,\n",
       "        -0.21012839, -0.073636  ]])"
      ]
     },
     "execution_count": 26,
     "metadata": {},
     "output_type": "execute_result"
    }
   ],
   "source": [
    "x[1:5]"
   ]
  },
  {
   "cell_type": "markdown",
   "id": "16da0017",
   "metadata": {},
   "source": [
    "# Train Test Splitting"
   ]
  },
  {
   "cell_type": "code",
   "execution_count": 27,
   "id": "05178947",
   "metadata": {},
   "outputs": [],
   "source": [
    "from sklearn.model_selection import train_test_split"
   ]
  },
  {
   "cell_type": "code",
   "execution_count": 28,
   "id": "11f4c806",
   "metadata": {},
   "outputs": [],
   "source": [
    "x_train, x_test, y_train, y_test = train_test_split(x,y,test_size=.2,random_state=42)"
   ]
  },
  {
   "cell_type": "code",
   "execution_count": 29,
   "id": "c9f9bd48",
   "metadata": {},
   "outputs": [
    {
     "data": {
      "text/plain": [
       "(17290, 12)"
      ]
     },
     "execution_count": 29,
     "metadata": {},
     "output_type": "execute_result"
    }
   ],
   "source": [
    "x_train.shape"
   ]
  },
  {
   "cell_type": "code",
   "execution_count": 30,
   "id": "c41d27a9",
   "metadata": {},
   "outputs": [
    {
     "data": {
      "text/plain": [
       "(4323, 12)"
      ]
     },
     "execution_count": 30,
     "metadata": {},
     "output_type": "execute_result"
    }
   ],
   "source": [
    "x_test.shape"
   ]
  },
  {
   "cell_type": "code",
   "execution_count": 31,
   "id": "cb83ff1b",
   "metadata": {},
   "outputs": [
    {
     "data": {
      "text/plain": [
       "(17290,)"
      ]
     },
     "execution_count": 31,
     "metadata": {},
     "output_type": "execute_result"
    }
   ],
   "source": [
    "y_train.shape"
   ]
  },
  {
   "cell_type": "code",
   "execution_count": 32,
   "id": "582aadd8",
   "metadata": {},
   "outputs": [
    {
     "data": {
      "text/plain": [
       "(4323,)"
      ]
     },
     "execution_count": 32,
     "metadata": {},
     "output_type": "execute_result"
    }
   ],
   "source": [
    "y_test.shape"
   ]
  },
  {
   "cell_type": "markdown",
   "id": "e5b75f4a",
   "metadata": {},
   "source": [
    "# Import Model"
   ]
  },
  {
   "cell_type": "markdown",
   "id": "d969f678",
   "metadata": {},
   "source": [
    "# LINEAR REGRESSION"
   ]
  },
  {
   "cell_type": "code",
   "execution_count": 33,
   "id": "c9981594",
   "metadata": {},
   "outputs": [
    {
     "name": "stdout",
     "output_type": "stream",
     "text": [
      "Train r2 score: 0.6512853233496806\n",
      "Test r2 Score: 0.6516167705437788\n"
     ]
    }
   ],
   "source": [
    "from sklearn.linear_model import LinearRegression\n",
    "from sklearn.metrics import mean_squared_error,r2_score,mean_absolute_error,classification_report,confusion_matrix\n",
    "model=LinearRegression()\n",
    "\n",
    "#creating linear regression model\n",
    "model.fit(x_train,y_train)\n",
    "\n",
    "#predicting on train and test data\n",
    "y_pred_train=model.predict(x_train)\n",
    "y_pred_test=model.predict(x_test)\n",
    "\n",
    "#Evaluation\n",
    "r2_train=r2_score(y_train,y_pred_train)\n",
    "r2_test=r2_score(y_test,y_pred_test)\n",
    "print('Train r2 score:',r2_train)\n",
    "print('Test r2 Score:',r2_test)\n"
   ]
  },
  {
   "cell_type": "markdown",
   "id": "acd21d3f",
   "metadata": {},
   "source": [
    "# DECISION TREE REGRESSOR"
   ]
  },
  {
   "cell_type": "code",
   "execution_count": 34,
   "id": "c7dfd760",
   "metadata": {},
   "outputs": [
    {
     "name": "stdout",
     "output_type": "stream",
     "text": [
      "Train r2 Score: 0.675861496662884\n",
      "Test r2 Score: 0.6111207499371318\n"
     ]
    }
   ],
   "source": [
    "from sklearn.tree import DecisionTreeRegressor\n",
    "\n",
    "# Create a DecisionTreeRegressor object\n",
    "regressor = DecisionTreeRegressor(random_state=42,max_depth=5)\n",
    "\n",
    "# Fit the model to the training data\n",
    "regressor.fit(x_train, y_train)\n",
    "\n",
    "# Predicting on test data\n",
    "y_pred_train=regressor.predict(x_train)\n",
    "y_pred_test = regressor.predict(x_test)\n",
    "\n",
    "#Evaluation\n",
    "r2_train=r2_score(y_train,y_pred_train)\n",
    "r2_test=r2_score(y_test,y_pred_test)\n",
    "print('Train r2 Score:',r2_train)\n",
    "print('Test r2 Score:',r2_test)\n"
   ]
  },
  {
   "cell_type": "markdown",
   "id": "76c862e5",
   "metadata": {},
   "source": [
    "# RANDOM FOREST ALGORITHM"
   ]
  },
  {
   "cell_type": "code",
   "execution_count": 35,
   "id": "622334e3",
   "metadata": {},
   "outputs": [
    {
     "name": "stdout",
     "output_type": "stream",
     "text": [
      "Train r2 Score: 0.7195662970501969\n",
      "Test r2 Score: 0.6563589624246391\n"
     ]
    }
   ],
   "source": [
    "from sklearn.ensemble import RandomForestRegressor\n",
    "\n",
    "# Creating Random Forest Regressor model\n",
    "rf_model = RandomForestRegressor(n_estimators=100, random_state=42,max_depth=5)\n",
    "\n",
    "# Training the Random Forest Regressor model\n",
    "rf_model.fit(x_train, y_train)\n",
    "\n",
    "# Predicting on test data\n",
    "y_pred_train=rf_model.predict(x_train)\n",
    "y_pred_test =rf_model.predict(x_test)\n",
    "\n",
    "#Evaluation\n",
    "r2_train=r2_score(y_train,y_pred_train)\n",
    "r2_test=r2_score(y_test,y_pred_test)\n",
    "print('Train r2 Score:',r2_train)\n",
    "print('Test r2 Score:',r2_test)\n",
    "\n"
   ]
  },
  {
   "cell_type": "markdown",
   "id": "42675b3c",
   "metadata": {},
   "source": [
    "# XGBOOST"
   ]
  },
  {
   "cell_type": "code",
   "execution_count": 37,
   "id": "24eb8de2",
   "metadata": {},
   "outputs": [
    {
     "name": "stdout",
     "output_type": "stream",
     "text": [
      "Requirement already satisfied: xgboost in c:\\users\\user\\anaconda3\\lib\\site-packages (2.0.2)\n",
      "Requirement already satisfied: numpy in c:\\users\\user\\anaconda3\\lib\\site-packages (from xgboost) (1.24.3)\n",
      "Requirement already satisfied: scipy in c:\\users\\user\\anaconda3\\lib\\site-packages (from xgboost) (1.10.1)\n",
      "Train r2 Score: 0.8718798106676593\n",
      "Test r2 Score: 0.7542620555315016\n"
     ]
    }
   ],
   "source": [
    "!pip install xgboost\n",
    "import xgboost as xgb\n",
    "\n",
    "# Creating XGBoost Regressor model\n",
    "xgb_model = xgb.XGBRegressor(n_estimators = 13,random_state=42)\n",
    "        \n",
    "# Training the XGBoost Regressor model\n",
    "xgb_model.fit(x_train, y_train)\n",
    "\n",
    "# Predicting on test data\n",
    "y_pred_train = xgb_model.predict(x_train)\n",
    "y_pred_test = xgb_model.predict(x_test)\n",
    "\n",
    "#Evaluation\n",
    "r2_train=r2_score(y_train,y_pred_train)\n",
    "r2_test=r2_score(y_test,y_pred_test)\n",
    "print('Train r2 Score:',r2_train)\n",
    "print('Test r2 Score:',r2_test)\n"
   ]
  },
  {
   "cell_type": "code",
   "execution_count": null,
   "id": "0ad191f0",
   "metadata": {},
   "outputs": [],
   "source": []
  }
 ],
 "metadata": {
  "kernelspec": {
   "display_name": "Python 3 (ipykernel)",
   "language": "python",
   "name": "python3"
  },
  "language_info": {
   "codemirror_mode": {
    "name": "ipython",
    "version": 3
   },
   "file_extension": ".py",
   "mimetype": "text/x-python",
   "name": "python",
   "nbconvert_exporter": "python",
   "pygments_lexer": "ipython3",
   "version": "3.11.3"
  }
 },
 "nbformat": 4,
 "nbformat_minor": 5
}
